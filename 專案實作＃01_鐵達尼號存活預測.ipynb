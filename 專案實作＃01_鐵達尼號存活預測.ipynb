{
  "nbformat": 4,
  "nbformat_minor": 0,
  "metadata": {
    "colab": {
      "name": "專案實作＃01:鐵達尼號存活預測.ipynb",
      "provenance": [],
      "authorship_tag": "ABX9TyMeQoseQeSgDuHvd6XN4r0b",
      "include_colab_link": true
    },
    "kernelspec": {
      "name": "python3",
      "display_name": "Python 3"
    },
    "language_info": {
      "name": "python"
    }
  },
  "cells": [
    {
      "cell_type": "markdown",
      "metadata": {
        "id": "view-in-github",
        "colab_type": "text"
      },
      "source": [
        "<a href=\"https://colab.research.google.com/github/chingyunghuang/titanic-analysis/blob/main/%E5%B0%88%E6%A1%88%E5%AF%A6%E4%BD%9C%EF%BC%8301_%E9%90%B5%E9%81%94%E5%B0%BC%E8%99%9F%E5%AD%98%E6%B4%BB%E9%A0%90%E6%B8%AC.ipynb\" target=\"_parent\"><img src=\"https://colab.research.google.com/assets/colab-badge.svg\" alt=\"Open In Colab\"/></a>"
      ]
    },
    {
      "cell_type": "code",
      "execution_count": 1,
      "metadata": {
        "id": "e5gP2I7kdpLj"
      },
      "outputs": [],
      "source": [
        "import pandas as pd\n",
        "import numpy as np\n",
        "import seaborn as sns\n",
        "import matplotlib.pyplot as plt"
      ]
    },
    {
      "cell_type": "code",
      "source": [
        "from google.colab import files\n",
        "uploaded=files.upload()\n",
        "import io\n",
        "train_data = pd.read_csv(io.BytesIO(uploaded['train.csv']))\n",
        "test_data = pd.read_csv(io.BytesIO(uploaded['test.csv']))"
      ],
      "metadata": {
        "colab": {
          "resources": {
            "http://localhost:8080/nbextensions/google.colab/files.js": {
              "data": "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",
              "ok": true,
              "headers": [
                [
                  "content-type",
                  "application/javascript"
                ]
              ],
              "status": 200,
              "status_text": ""
            }
          },
          "base_uri": "https://localhost:8080/",
          "height": 111
        },
        "id": "rjUnEMx0qVZ8",
        "outputId": "e48a890d-5388-4033-c4a7-88a5bb83d5c2"
      },
      "execution_count": 2,
      "outputs": [
        {
          "output_type": "display_data",
          "data": {
            "text/plain": [
              "<IPython.core.display.HTML object>"
            ],
            "text/html": [
              "\n",
              "     <input type=\"file\" id=\"files-fc11ceba-4a2f-4825-96e8-3b73368e3581\" name=\"files[]\" multiple disabled\n",
              "        style=\"border:none\" />\n",
              "     <output id=\"result-fc11ceba-4a2f-4825-96e8-3b73368e3581\">\n",
              "      Upload widget is only available when the cell has been executed in the\n",
              "      current browser session. Please rerun this cell to enable.\n",
              "      </output>\n",
              "      <script src=\"/nbextensions/google.colab/files.js\"></script> "
            ]
          },
          "metadata": {}
        },
        {
          "output_type": "stream",
          "name": "stdout",
          "text": [
            "Saving test.csv to test.csv\n",
            "Saving train.csv to train.csv\n"
          ]
        }
      ]
    },
    {
      "cell_type": "code",
      "source": [
        "################ First Version Model #######################"
      ],
      "metadata": {
        "id": "IMaU1B4unpyy"
      },
      "execution_count": null,
      "outputs": []
    },
    {
      "cell_type": "code",
      "source": [
        "# preprocessing data\n",
        "\n",
        "# one hot encoding for Pclass and Sex \n",
        "train_data1 = pd.concat([train_data, pd.get_dummies(train_data[\"Pclass\"],prefix='Class')], axis=1)\n",
        "train_data1 = pd.concat([train_data1, pd.get_dummies(train_data1[\"Sex\"])], axis=1)\n",
        "\n",
        "# fill na\n",
        "train_data1[[\"Embarked\"]] = train_data1[[\"Embarked\"]].fillna('S')\n",
        "train_data1[[\"Age\"]] = train_data1[[\"Age\"]].fillna(train_data1[[\"Age\"]].mean())\n",
        "\n",
        "# one hot encoding for Embarked\n",
        "train_data1 = pd.concat([train_data1, pd.get_dummies(train_data1[\"Embarked\"],prefix='Embarked')], axis=1)\n",
        "\n",
        "train_data1.head()\n",
        "train_data1.info()\n"
      ],
      "metadata": {
        "colab": {
          "base_uri": "https://localhost:8080/"
        },
        "id": "NefViM4L0TWh",
        "outputId": "eb86524b-c054-41c4-f835-3cb1c5f5c309"
      },
      "execution_count": null,
      "outputs": [
        {
          "output_type": "stream",
          "name": "stdout",
          "text": [
            "<class 'pandas.core.frame.DataFrame'>\n",
            "RangeIndex: 891 entries, 0 to 890\n",
            "Data columns (total 20 columns):\n",
            " #   Column       Non-Null Count  Dtype  \n",
            "---  ------       --------------  -----  \n",
            " 0   PassengerId  891 non-null    int64  \n",
            " 1   Survived     891 non-null    int64  \n",
            " 2   Pclass       891 non-null    int64  \n",
            " 3   Name         891 non-null    object \n",
            " 4   Sex          891 non-null    object \n",
            " 5   Age          891 non-null    float64\n",
            " 6   SibSp        891 non-null    int64  \n",
            " 7   Parch        891 non-null    int64  \n",
            " 8   Ticket       891 non-null    object \n",
            " 9   Fare         891 non-null    float64\n",
            " 10  Cabin        204 non-null    object \n",
            " 11  Embarked     891 non-null    object \n",
            " 12  Class_1      891 non-null    uint8  \n",
            " 13  Class_2      891 non-null    uint8  \n",
            " 14  Class_3      891 non-null    uint8  \n",
            " 15  female       891 non-null    uint8  \n",
            " 16  male         891 non-null    uint8  \n",
            " 17  Embarked_C   891 non-null    uint8  \n",
            " 18  Embarked_Q   891 non-null    uint8  \n",
            " 19  Embarked_S   891 non-null    uint8  \n",
            "dtypes: float64(2), int64(5), object(5), uint8(8)\n",
            "memory usage: 90.6+ KB\n"
          ]
        }
      ]
    },
    {
      "cell_type": "code",
      "source": [
        "columns_X1 = list(set(train_data1.columns) - {'Pclass','PassengerId','Sex','Name','Ticket','Cabin','Embarked'})\n",
        "\n",
        "# plot the heatmap\n",
        "corr=train_data1[columns_X1].corr()\n",
        "sns.heatmap(corr, \n",
        "        xticklabels=corr.columns,\n",
        "        yticklabels=corr.columns)\n",
        "#進一步觀察其他「數值欄位/類別欄位」的屬性與「是否生存欄位」之關係程度，找出關係大的欄位。\n",
        "train_data1[columns_X1].corr()['Survived']\n"
      ],
      "metadata": {
        "colab": {
          "base_uri": "https://localhost:8080/",
          "height": 565
        },
        "id": "JDBCZZ4JVDeQ",
        "outputId": "4a8300c0-b8aa-4b75-9b3d-e459257d9076"
      },
      "execution_count": null,
      "outputs": [
        {
          "output_type": "execute_result",
          "data": {
            "text/plain": [
              "Fare          0.257307\n",
              "Embarked_S   -0.149683\n",
              "Embarked_C    0.168240\n",
              "Class_2       0.093349\n",
              "Class_1       0.285904\n",
              "Age          -0.069809\n",
              "Parch         0.081629\n",
              "Embarked_Q    0.003650\n",
              "SibSp        -0.035322\n",
              "male         -0.543351\n",
              "Class_3      -0.322308\n",
              "female        0.543351\n",
              "Survived      1.000000\n",
              "Name: Survived, dtype: float64"
            ]
          },
          "metadata": {},
          "execution_count": 4
        },
        {
          "output_type": "display_data",
          "data": {
            "text/plain": [
              "<Figure size 432x288 with 2 Axes>"
            ],
            "image/png": "[encoded data removed]"
          },
          "metadata": {
            "needs_background": "light"
          }
        }
      ]
    },
    {
      "cell_type": "code",
      "source": [
        "columns_X = list(set(train_data1.columns) - {'Survived','Pclass','PassengerId','Sex','Name','Ticket','Cabin','Embarked'})\n",
        "columns_y = ['Survived']\n",
        "\n",
        "train_X = train_data1[columns_X]\n",
        "train_y = train_data1[columns_y]\n",
        "\n",
        "from sklearn.linear_model import LogisticRegression\n",
        "from sklearn.model_selection import cross_val_score\n",
        "\n",
        "log = LogisticRegression(random_state=0, max_iter=3000)\n",
        "scores = cross_val_score(log, train_X, train_y.values.ravel(),cv=5,scoring='accuracy')\n",
        "scores"
      ],
      "metadata": {
        "colab": {
          "base_uri": "https://localhost:8080/"
        },
        "id": "HLy5K6LqZTfc",
        "outputId": "e900185f-a28c-4250-e925-cba53738cbc7"
      },
      "execution_count": null,
      "outputs": [
        {
          "output_type": "execute_result",
          "data": {
            "text/plain": [
              "array([0.77653631, 0.79213483, 0.78651685, 0.76966292, 0.83707865])"
            ]
          },
          "metadata": {},
          "execution_count": 5
        }
      ]
    },
    {
      "cell_type": "code",
      "source": [
        "########## Second Version Model ###############"
      ],
      "metadata": {
        "id": "Ic4_qTvToyct"
      },
      "execution_count": null,
      "outputs": []
    },
    {
      "cell_type": "code",
      "source": [
        "train_data1['Sex']\n",
        "sns.countplot(y=train_data1['Sex'],hue=train_data1.Survived)"
      ],
      "metadata": {
        "colab": {
          "base_uri": "https://localhost:8080/",
          "height": 296
        },
        "id": "eUCDUD8C6Ndx",
        "outputId": "7ae4655a-254c-4346-877d-5494ba721f31"
      },
      "execution_count": null,
      "outputs": [
        {
          "output_type": "execute_result",
          "data": {
            "text/plain": [
              "<matplotlib.axes._subplots.AxesSubplot at 0x7fabcf04b590>"
            ]
          },
          "metadata": {},
          "execution_count": 22
        },
        {
          "output_type": "display_data",
          "data": {
            "text/plain": [
              "<Figure size 432x288 with 1 Axes>"
            ],
            "image/png": "[encoded data removed]"
          },
          "metadata": {
            "needs_background": "light"
          }
        }
      ]
    },
    {
      "cell_type": "code",
      "source": [
        "# optimize the model\n",
        "\n",
        "# 延續昨天的觀察，欄位中與「是否生存欄位」找出關係比較大的欄位有哪些？你是如何定義「關係大」的呢？\n",
        "\n",
        "\n",
        "  # Method: Correlation\n",
        "  # 看到 是female與有存活有比較高的正相關 ，因此female這個feature 與「是否生存欄位」關係較大\n",
        "\n",
        "columns_X1 = list(set(train_data1.columns) - {'Pclass','PassengerId','Sex','Name','Ticket','Cabin','Embarked'})\n",
        "train_data1[columns_X1].corr()['Survived']\n",
        "\n",
        "  # Method : Visualization\n",
        "    # People who..\n",
        "        # embarked from C\n",
        "        # in Class 1\n",
        "        # have 1 parents / children aboard the Titanic \n",
        "        # have 1 siblings / spouses aboard the Titanic\n",
        "        # are female\n",
        "    # have higher chance to survive\n",
        "\n",
        "column_list=['Sex','Embarked','Pclass','Parch','SibSp']\n",
        "\n",
        "plt.figure() \n",
        "\n",
        "fig, axs = plt.subplots(1,5,figsize=(40,15))\n",
        "for i, col in enumerate( train_data1[column_list] ) :  \n",
        "  sns.countplot(x=train_data1[col],hue=train_data1.Survived,ax=axs[i-1])   \n",
        "\n",
        "plt.show()\n",
        "\n",
        "\n",
        "# 請問資料中有哪些「欄位」你覺得是多餘的，在分析過程中應該被排除的呢？為什麼？\n",
        "  # Cabin 缺失值多且不重要，可以移除, Name 和 PassengerId 對於預測survived 與否沒有幫助，所以可以去除\n",
        "\n",
        "\n"
      ],
      "metadata": {
        "id": "P-Q4zJiOXbD8",
        "colab": {
          "base_uri": "https://localhost:8080/",
          "height": 530
        },
        "outputId": "6658955b-d7c1-401b-af1c-4b24413acb1c"
      },
      "execution_count": null,
      "outputs": [
        {
          "output_type": "display_data",
          "data": {
            "text/plain": [
              "<Figure size 432x288 with 0 Axes>"
            ]
          },
          "metadata": {}
        },
        {
          "output_type": "display_data",
          "data": {
            "text/plain": [
              "<Figure size 2880x1080 with 5 Axes>"
            ],
            "image/png": "[encoded data removed]"
          },
          "metadata": {
            "needs_background": "light"
          }
        }
      ]
    },
    {
      "cell_type": "code",
      "source": [
        "## 3. 請你針對「有缺失值」的幾個欄位，嘗試比較不同的處理策略（例如用常數、中位數、平均數填補）。\n",
        "\n",
        "\n",
        "train_data2=train_data\n",
        "# fill the missing value of'Embarked'with the mode value\n",
        "train_data2[[\"Embarked\"]] = train_data2[[\"Embarked\"]].fillna('S')\n",
        "# fill the missing value of'age'with median age\n",
        "train_data2[[\"Age\"]] = train_data2[[\"Age\"]].fillna(train_data2[[\"Age\"]].mean())\n",
        "\n"
      ],
      "metadata": {
        "id": "ofaKYTUtl01g"
      },
      "execution_count": 3,
      "outputs": []
    },
    {
      "cell_type": "code",
      "source": [
        "# 4. 請你針對「非數值型」的幾個欄位，嘗試比較不同的處理策略（例如用 LabelEncoder 或 OneHotEncoder）。\n",
        "\n",
        "# one hot encoding for Pclass and Sex \n",
        "\n",
        "train_data2 = pd.concat([train_data2, pd.get_dummies(train_data2[\"Pclass\"],prefix='Class')], axis=1)\n",
        "train_data2 = pd.concat([train_data2, pd.get_dummies(train_data2[\"Sex\"])], axis=1)\n",
        "train_data2 = pd.concat([train_data2, pd.get_dummies(train_data2[\"Embarked\"],prefix='Embarked')], axis=1)\n",
        "train_data2.columns\n"
      ],
      "metadata": {
        "colab": {
          "base_uri": "https://localhost:8080/"
        },
        "id": "FBBdKwEdmEWn",
        "outputId": "527ace42-6403-4988-b625-0179276e4c27"
      },
      "execution_count": 4,
      "outputs": [
        {
          "output_type": "execute_result",
          "data": {
            "text/plain": [
              "Index(['PassengerId', 'Survived', 'Pclass', 'Name', 'Sex', 'Age', 'SibSp',\n",
              "       'Parch', 'Ticket', 'Fare', 'Cabin', 'Embarked', 'Class_1', 'Class_2',\n",
              "       'Class_3', 'female', 'male', 'Embarked_C', 'Embarked_Q', 'Embarked_S'],\n",
              "      dtype='object')"
            ]
          },
          "metadata": {},
          "execution_count": 4
        }
      ]
    },
    {
      "cell_type": "code",
      "source": [
        "# add column : family_member , Fare_class\n",
        "\n",
        "train_data2['family_member']=train_data2['SibSp']+train_data2['Parch']+1\n",
        "label=['Cheap','Mid-cheap','Middle','Luxurious']\n",
        "train_data2['fare_class']=pd.qcut(train_data2['Fare'],4,labels=label)\n",
        "  # turn fareclass to dummy\n",
        "train_data2 = pd.concat([train_data2, pd.get_dummies(train_data2[\"fare_class\"],prefix='Fare_')], axis=1)\n",
        "train_data2.columns\n"
      ],
      "metadata": {
        "colab": {
          "base_uri": "https://localhost:8080/"
        },
        "id": "Hsm_dUvlJjrm",
        "outputId": "eb4ecb0c-fcae-4531-da10-b2b2f24ff5cf"
      },
      "execution_count": 5,
      "outputs": [
        {
          "output_type": "execute_result",
          "data": {
            "text/plain": [
              "Index(['PassengerId', 'Survived', 'Pclass', 'Name', 'Sex', 'Age', 'SibSp',\n",
              "       'Parch', 'Ticket', 'Fare', 'Cabin', 'Embarked', 'Class_1', 'Class_2',\n",
              "       'Class_3', 'female', 'male', 'Embarked_C', 'Embarked_Q', 'Embarked_S',\n",
              "       'family_member', 'fare_class', 'Fare__Cheap', 'Fare__Mid-cheap',\n",
              "       'Fare__Middle', 'Fare__Luxurious'],\n",
              "      dtype='object')"
            ]
          },
          "metadata": {},
          "execution_count": 5
        }
      ]
    },
    {
      "cell_type": "code",
      "source": [
        "# visulaize the relationship between family member and survived \n",
        "# Finding: People who had 2~4 family members had a higher chance to survive\n",
        "\n",
        "sns.countplot(x=train_data2['family_member'],hue=train_data2.Survived)\n",
        "\n",
        "#visualize the distribution of survived and non survived per \"# of family_member\"\n",
        "familySize_data=train_data2.groupby(['family_member','Survived']).count()['PassengerId']\n",
        "unstack_familySize_data=familySize_data.unstack('Survived')\n",
        "familySize_dist=unstack_familySize_data.div(unstack_familySize_data.sum(1),axis=0).fillna(0)\n",
        "familySize_dist.plot()"
      ],
      "metadata": {
        "colab": {
          "base_uri": "https://localhost:8080/",
          "height": 560
        },
        "id": "ll5iT0WVZkbP",
        "outputId": "7b00cba9-5e55-4375-89ba-3744317412dd"
      },
      "execution_count": 6,
      "outputs": [
        {
          "output_type": "execute_result",
          "data": {
            "text/plain": [
              "<matplotlib.axes._subplots.AxesSubplot at 0x7f2c86a8fd90>"
            ]
          },
          "metadata": {},
          "execution_count": 6
        },
        {
          "output_type": "display_data",
          "data": {
            "text/plain": [
              "<Figure size 432x288 with 1 Axes>"
            ],
            "image/png": "[encoded data removed]"
          },
          "metadata": {
            "needs_background": "light"
          }
        },
        {
          "output_type": "display_data",
          "data": {
            "text/plain": [
              "<Figure size 432x288 with 1 Axes>"
            ],
            "image/png": "[encoded data removed]"
          },
          "metadata": {
            "needs_background": "light"
          }
        }
      ]
    },
    {
      "cell_type": "code",
      "source": [
        "# transform \"family member\" from numerical to categorical\n",
        "def familySizeTransform(s):\n",
        "  if s>=2 and s<5:\n",
        "    return 3\n",
        "  elif s==1 or (s>=5 and s<8):\n",
        "    return 2\n",
        "  else:\n",
        "    return 1\n",
        "# map the family member to category\n",
        "train_data2['FamilySizeEncoding']=train_data2['family_member'].map(familySizeTransform)\n",
        "#train_data2[['family_member','FamilySizeEncoding']][:10]"
      ],
      "metadata": {
        "id": "1E1wmKMagIGz"
      },
      "execution_count": 7,
      "outputs": []
    },
    {
      "cell_type": "code",
      "source": [
        "columns_X2 = list(set(train_data2.columns) - {'Survived','Pclass','PassengerId','Sex','Name','Ticket','Cabin','Embarked','fare_class','family_member'})\n",
        "columns_y2 = ['Survived']\n",
        "\n",
        "train_X2 = train_data2[columns_X2]\n",
        "train_y2= train_data2[columns_y2]\n",
        "\n",
        "from sklearn.linear_model import LogisticRegression\n",
        "from sklearn.model_selection import cross_val_score\n",
        "\n",
        "log = LogisticRegression(random_state=0, max_iter=3000)\n",
        "scores = cross_val_score(log, train_X2, train_y2.values.ravel(),cv=5,scoring='accuracy')\n",
        "scores"
      ],
      "metadata": {
        "colab": {
          "base_uri": "https://localhost:8080/"
        },
        "id": "s12O5akqN2Wy",
        "outputId": "cbbaea1e-e0d2-45c5-b091-17ea9bb90096"
      },
      "execution_count": 8,
      "outputs": [
        {
          "output_type": "execute_result",
          "data": {
            "text/plain": [
              "array([0.7877095 , 0.79775281, 0.79213483, 0.78651685, 0.82022472])"
            ]
          },
          "metadata": {},
          "execution_count": 8
        }
      ]
    },
    {
      "cell_type": "code",
      "source": [
        "# Finding: After optimizing the model, we can find the following attributes that have relatively high correlation with \"Survived\" attribute\n",
        "# Attribute such as ....\n",
        "  # sex (male/female)\n",
        "  # Pclass (3 & 1)\n",
        "  # FamilySizeEncoding\n",
        "  # Fare_Luxurious\n",
        "  # Fare_cheap\n",
        "\n",
        "abs(train_data2.corr()['Survived']).sort_values(ascending=False)"
      ],
      "metadata": {
        "colab": {
          "base_uri": "https://localhost:8080/"
        },
        "id": "JmbW6U4omJxW",
        "outputId": "69e6d80c-642a-4d55-9fbf-5f46083df3dd"
      },
      "execution_count": null,
      "outputs": [
        {
          "output_type": "execute_result",
          "data": {
            "text/plain": [
              "Survived              1.000000\n",
              "male                  0.543351\n",
              "female                0.543351\n",
              "Pclass                0.338481\n",
              "Class_3               0.322308\n",
              "FamilySizeEncoding    0.289087\n",
              "Class_1               0.285904\n",
              "Fare                  0.257307\n",
              "Fare__Luxurious       0.233638\n",
              "Fare__Cheap           0.221610\n",
              "Embarked_C            0.168240\n",
              "Embarked_S            0.149683\n",
              "Fare__Mid-cheap       0.095648\n",
              "Class_2               0.093349\n",
              "Fare__Middle          0.084239\n",
              "Parch                 0.081629\n",
              "Age                   0.069809\n",
              "SibSp                 0.035322\n",
              "family_member         0.016639\n",
              "PassengerId           0.005007\n",
              "Embarked_Q            0.003650\n",
              "Name: Survived, dtype: float64"
            ]
          },
          "metadata": {},
          "execution_count": 32
        }
      ]
    },
    {
      "cell_type": "code",
      "source": [
        "##########   Model Building"
      ],
      "metadata": {
        "id": "SJytyZq7KHDa"
      },
      "execution_count": null,
      "outputs": []
    },
    {
      "cell_type": "code",
      "source": [
        "# machine learning\n",
        "from sklearn.svm import SVC\n",
        "from sklearn.linear_model import LogisticRegression\n",
        "from sklearn.neighbors import KNeighborsClassifier\n",
        "from sklearn.tree import DecisionTreeClassifier\n",
        "from sklearn.naive_bayes import GaussianNB\n",
        "from sklearn.ensemble import RandomForestClassifier , GradientBoostingClassifier"
      ],
      "metadata": {
        "id": "TB240fKmKK4k"
      },
      "execution_count": 9,
      "outputs": []
    },
    {
      "cell_type": "code",
      "source": [
        "# predict the model with the choosen attributes in train_data2\n",
        "\n",
        "  # logistic regression \n",
        "log = LogisticRegression(random_state=0, max_iter=3000)\n",
        "scores_1 = cross_val_score(log, train_X2, train_y2.values.ravel(),cv=5,scoring='accuracy').mean()\n",
        "\n",
        "  #Support Vector Machines\n",
        "svc = SVC()\n",
        "scores_2 = cross_val_score(svc, train_X2, train_y2.values.ravel(),cv=5,scoring='accuracy').mean()\n",
        "\n",
        "  # Decision Tree\n",
        "decision_tree = DecisionTreeClassifier()\n",
        "scores_3 = cross_val_score(decision_tree, train_X2, train_y2.values.ravel(),cv=5,scoring='accuracy').mean()\n",
        "\n",
        "  # KNN\n",
        "knn = KNeighborsClassifier(n_neighbors = 3)\n",
        "scores_4 = cross_val_score(knn, train_X2, train_y2.values.ravel(),cv=5,scoring='accuracy').mean()\n",
        "\n",
        "  # Gaussian Naive Baye\n",
        "gaussian = GaussianNB()\n",
        "scores_5 = cross_val_score(gaussian, train_X2, train_y2.values.ravel(),cv=5,scoring='accuracy').mean()\n",
        "\n",
        "  # RandomForestClassifier\n",
        "rf = RandomForestClassifier(n_estimators=100)\n",
        "scores_6 = cross_val_score(rf, train_X2, train_y2.values.ravel(),cv=5,scoring='accuracy').mean()\n",
        "\n",
        "#print the score\n",
        "\n",
        "score=pd.DataFrame({'Model': ['logistic regression','Support Vector Machines','Decision Tree','KNN','Gaussian Naive Baye','RandomForestClassifier'],\n",
        "              'Average Score':[scores_1,scores_2,scores_3,scores_4,scores_5,scores_6]})\n",
        "score"
      ],
      "metadata": {
        "colab": {
          "base_uri": "https://localhost:8080/",
          "height": 238
        },
        "id": "8mX45GKrKYc6",
        "outputId": "ade65f45-c625-4445-b61d-ba77438dc57e"
      },
      "execution_count": 10,
      "outputs": [
        {
          "output_type": "execute_result",
          "data": {
            "text/plain": [
              "                     Model  Average Score\n",
              "0      logistic regression       0.796868\n",
              "1  Support Vector Machines       0.674616\n",
              "2            Decision Tree       0.768834\n",
              "3                      KNN       0.703747\n",
              "4      Gaussian Naive Baye       0.753211\n",
              "5   RandomForestClassifier       0.803634"
            ],
            "text/html": [
              "\n",
              "  <div id=\"df-21e16098-d262-4567-b15f-8219ceaf10d0\">\n",
              "    <div class=\"colab-df-container\">\n",
              "      <div>\n",
              "<style scoped>\n",
              "    .dataframe tbody tr th:only-of-type {\n",
              "        vertical-align: middle;\n",
              "    }\n",
              "\n",
              "    .dataframe tbody tr th {\n",
              "        vertical-align: top;\n",
              "    }\n",
              "\n",
              "    .dataframe thead th {\n",
              "        text-align: right;\n",
              "    }\n",
              "</style>\n",
              "<table border=\"1\" class=\"dataframe\">\n",
              "  <thead>\n",
              "    <tr style=\"text-align: right;\">\n",
              "      <th></th>\n",
              "      <th>Model</th>\n",
              "      <th>Average Score</th>\n",
              "    </tr>\n",
              "  </thead>\n",
              "  <tbody>\n",
              "    <tr>\n",
              "      <th>0</th>\n",
              "      <td>logistic regression</td>\n",
              "      <td>0.796868</td>\n",
              "    </tr>\n",
              "    <tr>\n",
              "      <th>1</th>\n",
              "      <td>Support Vector Machines</td>\n",
              "      <td>0.674616</td>\n",
              "    </tr>\n",
              "    <tr>\n",
              "      <th>2</th>\n",
              "      <td>Decision Tree</td>\n",
              "      <td>0.768834</td>\n",
              "    </tr>\n",
              "    <tr>\n",
              "      <th>3</th>\n",
              "      <td>KNN</td>\n",
              "      <td>0.703747</td>\n",
              "    </tr>\n",
              "    <tr>\n",
              "      <th>4</th>\n",
              "      <td>Gaussian Naive Baye</td>\n",
              "      <td>0.753211</td>\n",
              "    </tr>\n",
              "    <tr>\n",
              "      <th>5</th>\n",
              "      <td>RandomForestClassifier</td>\n",
              "      <td>0.803634</td>\n",
              "    </tr>\n",
              "  </tbody>\n",
              "</table>\n",
              "</div>\n",
              "      <button class=\"colab-df-convert\" onclick=\"convertToInteractive('df-21e16098-d262-4567-b15f-8219ceaf10d0')\"\n",
              "              title=\"Convert this dataframe to an interactive table.\"\n",
              "              style=\"display:none;\">\n",
              "        \n",
              "  <svg xmlns=\"http://www.w3.org/2000/svg\" height=\"24px\"viewBox=\"0 0 24 24\"\n",
              "       width=\"24px\">\n",
              "    <path d=\"M0 0h24v24H0V0z\" fill=\"none\"/>\n",
              "    <path d=\"M18.56 5.44l.94 2.06.94-2.06 2.06-.94-2.06-.94-.94-2.06-.94 2.06-2.06.94zm-11 1L8.5 8.5l.94-2.06 2.06-.94-2.06-.94L8.5 2.5l-.94 2.06-2.06.94zm10 10l.94 2.06.94-2.06 2.06-.94-2.06-.94-.94-2.06-.94 2.06-2.06.94z\"/><path d=\"M17.41 7.96l-1.37-1.37c-.4-.4-.92-.59-1.43-.59-.52 0-1.04.2-1.43.59L10.3 9.45l-7.72 7.72c-.78.78-.78 2.05 0 2.83L4 21.41c.39.39.9.59 1.41.59.51 0 1.02-.2 1.41-.59l7.78-7.78 2.81-2.81c.8-.78.8-2.07 0-2.86zM5.41 20L4 18.59l7.72-7.72 1.47 1.35L5.41 20z\"/>\n",
              "  </svg>\n",
              "      </button>\n",
              "      \n",
              "  <style>\n",
              "    .colab-df-container {\n",
              "      display:flex;\n",
              "      flex-wrap:wrap;\n",
              "      gap: 12px;\n",
              "    }\n",
              "\n",
              "    .colab-df-convert {\n",
              "      background-color: #E8F0FE;\n",
              "      border: none;\n",
              "      border-radius: 50%;\n",
              "      cursor: pointer;\n",
              "      display: none;\n",
              "      fill: #1967D2;\n",
              "      height: 32px;\n",
              "      padding: 0 0 0 0;\n",
              "      width: 32px;\n",
              "    }\n",
              "\n",
              "    .colab-df-convert:hover {\n",
              "      background-color: #E2EBFA;\n",
              "      box-shadow: 0px 1px 2px rgba(60, 64, 67, 0.3), 0px 1px 3px 1px rgba(60, 64, 67, 0.15);\n",
              "      fill: #174EA6;\n",
              "    }\n",
              "\n",
              "    [theme=dark] .colab-df-convert {\n",
              "      background-color: #3B4455;\n",
              "      fill: #D2E3FC;\n",
              "    }\n",
              "\n",
              "    [theme=dark] .colab-df-convert:hover {\n",
              "      background-color: #434B5C;\n",
              "      box-shadow: 0px 1px 3px 1px rgba(0, 0, 0, 0.15);\n",
              "      filter: drop-shadow(0px 1px 2px rgba(0, 0, 0, 0.3));\n",
              "      fill: #FFFFFF;\n",
              "    }\n",
              "  </style>\n",
              "\n",
              "      <script>\n",
              "        const buttonEl =\n",
              "          document.querySelector('#df-21e16098-d262-4567-b15f-8219ceaf10d0 button.colab-df-convert');\n",
              "        buttonEl.style.display =\n",
              "          google.colab.kernel.accessAllowed ? 'block' : 'none';\n",
              "\n",
              "        async function convertToInteractive(key) {\n",
              "          const element = document.querySelector('#df-21e16098-d262-4567-b15f-8219ceaf10d0');\n",
              "          const dataTable =\n",
              "            await google.colab.kernel.invokeFunction('convertToInteractive',\n",
              "                                                     [key], {});\n",
              "          if (!dataTable) return;\n",
              "\n",
              "          const docLinkHtml = 'Like what you see? Visit the ' +\n",
              "            '<a target=\"_blank\" href=https://colab.research.google.com/notebooks/data_table.ipynb>data table notebook</a>'\n",
              "            + ' to learn more about interactive tables.';\n",
              "          element.innerHTML = '';\n",
              "          dataTable['output_type'] = 'display_data';\n",
              "          await google.colab.output.renderOutput(dataTable, element);\n",
              "          const docLink = document.createElement('div');\n",
              "          docLink.innerHTML = docLinkHtml;\n",
              "          element.appendChild(docLink);\n",
              "        }\n",
              "      </script>\n",
              "    </div>\n",
              "  </div>\n",
              "  "
            ]
          },
          "metadata": {},
          "execution_count": 10
        }
      ]
    },
    {
      "cell_type": "code",
      "source": [
        "# Use GridSearchCV : 自動調參數的方法\n",
        "# 調support vector machine \n",
        "from sklearn.model_selection import GridSearchCV\n",
        "\n",
        "svc = SVC()\n",
        "Parameters = {\n",
        "    'C' : [ 1.5, 2, 2.5],\n",
        "    'gamma' : [0.05,0.1],\n",
        "    'kernel' : ['linear']\n",
        "}\n",
        "\n",
        "clf= GridSearchCV(svc, Parameters, cv = 5, n_jobs = 6)\n",
        "clf.fit(train_X2, train_y2)\n",
        "print(clf.best_params_)\n",
        "scores_7 = cross_val_score(svc, train_X2, train_y2.values.ravel(), cv=5,scoring='accuracy').mean()\n",
        "print(scores_7)"
      ],
      "metadata": {
        "colab": {
          "base_uri": "https://localhost:8080/"
        },
        "id": "5L4BSEHIQ4d6",
        "outputId": "08199b06-0027-42e7-b6dd-991d5ae8026e"
      },
      "execution_count": 11,
      "outputs": [
        {
          "output_type": "stream",
          "name": "stderr",
          "text": [
            "/usr/local/lib/python3.7/dist-packages/sklearn/utils/validation.py:993: DataConversionWarning: A column-vector y was passed when a 1d array was expected. Please change the shape of y to (n_samples, ), for example using ravel().\n",
            "  y = column_or_1d(y, warn=True)\n"
          ]
        },
        {
          "output_type": "stream",
          "name": "stdout",
          "text": [
            "{'C': 1.5, 'gamma': 0.05, 'kernel': 'linear'}\n",
            "0.674615529470843\n"
          ]
        }
      ]
    },
    {
      "cell_type": "code",
      "source": [
        "# Use GridSearchCV : 自動調參數的方法\n",
        "# 調knn\n",
        "knn = KNeighborsClassifier(n_neighbors = 4)\n",
        "Parameters = {\n",
        "    'weights' : [ 'distance'],\n",
        "    'leaf_size':[6]\n",
        "\n",
        "}\n",
        "clf= GridSearchCV(knn, Parameters, cv = 5, n_jobs = 6)\n",
        "clf.fit(train_X2, train_y2)\n",
        "print(clf.best_params_)\n",
        "scores_8 = cross_val_score(knn, train_X2, train_y2.values.ravel(), cv=5,scoring='accuracy').mean()\n",
        "print(scores_8)\n"
      ],
      "metadata": {
        "colab": {
          "base_uri": "https://localhost:8080/"
        },
        "id": "DPJMuBARYbdF",
        "outputId": "5b2e3cee-4a1c-4ab7-e5bb-9eb9101f4d0f"
      },
      "execution_count": 24,
      "outputs": [
        {
          "output_type": "stream",
          "name": "stdout",
          "text": [
            "{'leaf_size': 6, 'weights': 'distance'}\n",
            "0.7048584520745715\n"
          ]
        },
        {
          "output_type": "stream",
          "name": "stderr",
          "text": [
            "/usr/local/lib/python3.7/dist-packages/sklearn/neighbors/_classification.py:198: DataConversionWarning: A column-vector y was passed when a 1d array was expected. Please change the shape of y to (n_samples,), for example using ravel().\n",
            "  return self._fit(X, y)\n"
          ]
        }
      ]
    },
    {
      "cell_type": "code",
      "source": [
        "models=pd.DataFrame({'Model': ['logistic regression','Support Vector Machines','Support Vector Machines(optimize)','Decision Tree','KNN','KNN(optimize)','Gaussian Naive Baye','RandomForestClassifier'],\n",
        "              'Average Score':[scores_1,scores_2,scores_7,scores_3,scores_4,scores_8,scores_5,scores_6]})\n",
        "models"
      ],
      "metadata": {
        "colab": {
          "base_uri": "https://localhost:8080/",
          "height": 300
        },
        "id": "Yr5FCd3wbhuE",
        "outputId": "cc3df9d8-e0f6-4bd4-c221-fd7b3f38981e"
      },
      "execution_count": 25,
      "outputs": [
        {
          "output_type": "execute_result",
          "data": {
            "text/plain": [
              "                               Model  Average Score\n",
              "0                logistic regression       0.796868\n",
              "1            Support Vector Machines       0.674616\n",
              "2  Support Vector Machines(optimize)       0.674616\n",
              "3                      Decision Tree       0.768834\n",
              "4                                KNN       0.703747\n",
              "5                      KNN(optimize)       0.704858\n",
              "6                Gaussian Naive Baye       0.753211\n",
              "7             RandomForestClassifier       0.803634"
            ],
            "text/html": [
              "\n",
              "  <div id=\"df-81efd9b2-e478-47cf-a010-333b4e71214c\">\n",
              "    <div class=\"colab-df-container\">\n",
              "      <div>\n",
              "<style scoped>\n",
              "    .dataframe tbody tr th:only-of-type {\n",
              "        vertical-align: middle;\n",
              "    }\n",
              "\n",
              "    .dataframe tbody tr th {\n",
              "        vertical-align: top;\n",
              "    }\n",
              "\n",
              "    .dataframe thead th {\n",
              "        text-align: right;\n",
              "    }\n",
              "</style>\n",
              "<table border=\"1\" class=\"dataframe\">\n",
              "  <thead>\n",
              "    <tr style=\"text-align: right;\">\n",
              "      <th></th>\n",
              "      <th>Model</th>\n",
              "      <th>Average Score</th>\n",
              "    </tr>\n",
              "  </thead>\n",
              "  <tbody>\n",
              "    <tr>\n",
              "      <th>0</th>\n",
              "      <td>logistic regression</td>\n",
              "      <td>0.796868</td>\n",
              "    </tr>\n",
              "    <tr>\n",
              "      <th>1</th>\n",
              "      <td>Support Vector Machines</td>\n",
              "      <td>0.674616</td>\n",
              "    </tr>\n",
              "    <tr>\n",
              "      <th>2</th>\n",
              "      <td>Support Vector Machines(optimize)</td>\n",
              "      <td>0.674616</td>\n",
              "    </tr>\n",
              "    <tr>\n",
              "      <th>3</th>\n",
              "      <td>Decision Tree</td>\n",
              "      <td>0.768834</td>\n",
              "    </tr>\n",
              "    <tr>\n",
              "      <th>4</th>\n",
              "      <td>KNN</td>\n",
              "      <td>0.703747</td>\n",
              "    </tr>\n",
              "    <tr>\n",
              "      <th>5</th>\n",
              "      <td>KNN(optimize)</td>\n",
              "      <td>0.704858</td>\n",
              "    </tr>\n",
              "    <tr>\n",
              "      <th>6</th>\n",
              "      <td>Gaussian Naive Baye</td>\n",
              "      <td>0.753211</td>\n",
              "    </tr>\n",
              "    <tr>\n",
              "      <th>7</th>\n",
              "      <td>RandomForestClassifier</td>\n",
              "      <td>0.803634</td>\n",
              "    </tr>\n",
              "  </tbody>\n",
              "</table>\n",
              "</div>\n",
              "      <button class=\"colab-df-convert\" onclick=\"convertToInteractive('df-81efd9b2-e478-47cf-a010-333b4e71214c')\"\n",
              "              title=\"Convert this dataframe to an interactive table.\"\n",
              "              style=\"display:none;\">\n",
              "        \n",
              "  <svg xmlns=\"http://www.w3.org/2000/svg\" height=\"24px\"viewBox=\"0 0 24 24\"\n",
              "       width=\"24px\">\n",
              "    <path d=\"M0 0h24v24H0V0z\" fill=\"none\"/>\n",
              "    <path d=\"M18.56 5.44l.94 2.06.94-2.06 2.06-.94-2.06-.94-.94-2.06-.94 2.06-2.06.94zm-11 1L8.5 8.5l.94-2.06 2.06-.94-2.06-.94L8.5 2.5l-.94 2.06-2.06.94zm10 10l.94 2.06.94-2.06 2.06-.94-2.06-.94-.94-2.06-.94 2.06-2.06.94z\"/><path d=\"M17.41 7.96l-1.37-1.37c-.4-.4-.92-.59-1.43-.59-.52 0-1.04.2-1.43.59L10.3 9.45l-7.72 7.72c-.78.78-.78 2.05 0 2.83L4 21.41c.39.39.9.59 1.41.59.51 0 1.02-.2 1.41-.59l7.78-7.78 2.81-2.81c.8-.78.8-2.07 0-2.86zM5.41 20L4 18.59l7.72-7.72 1.47 1.35L5.41 20z\"/>\n",
              "  </svg>\n",
              "      </button>\n",
              "      \n",
              "  <style>\n",
              "    .colab-df-container {\n",
              "      display:flex;\n",
              "      flex-wrap:wrap;\n",
              "      gap: 12px;\n",
              "    }\n",
              "\n",
              "    .colab-df-convert {\n",
              "      background-color: #E8F0FE;\n",
              "      border: none;\n",
              "      border-radius: 50%;\n",
              "      cursor: pointer;\n",
              "      display: none;\n",
              "      fill: #1967D2;\n",
              "      height: 32px;\n",
              "      padding: 0 0 0 0;\n",
              "      width: 32px;\n",
              "    }\n",
              "\n",
              "    .colab-df-convert:hover {\n",
              "      background-color: #E2EBFA;\n",
              "      box-shadow: 0px 1px 2px rgba(60, 64, 67, 0.3), 0px 1px 3px 1px rgba(60, 64, 67, 0.15);\n",
              "      fill: #174EA6;\n",
              "    }\n",
              "\n",
              "    [theme=dark] .colab-df-convert {\n",
              "      background-color: #3B4455;\n",
              "      fill: #D2E3FC;\n",
              "    }\n",
              "\n",
              "    [theme=dark] .colab-df-convert:hover {\n",
              "      background-color: #434B5C;\n",
              "      box-shadow: 0px 1px 3px 1px rgba(0, 0, 0, 0.15);\n",
              "      filter: drop-shadow(0px 1px 2px rgba(0, 0, 0, 0.3));\n",
              "      fill: #FFFFFF;\n",
              "    }\n",
              "  </style>\n",
              "\n",
              "      <script>\n",
              "        const buttonEl =\n",
              "          document.querySelector('#df-81efd9b2-e478-47cf-a010-333b4e71214c button.colab-df-convert');\n",
              "        buttonEl.style.display =\n",
              "          google.colab.kernel.accessAllowed ? 'block' : 'none';\n",
              "\n",
              "        async function convertToInteractive(key) {\n",
              "          const element = document.querySelector('#df-81efd9b2-e478-47cf-a010-333b4e71214c');\n",
              "          const dataTable =\n",
              "            await google.colab.kernel.invokeFunction('convertToInteractive',\n",
              "                                                     [key], {});\n",
              "          if (!dataTable) return;\n",
              "\n",
              "          const docLinkHtml = 'Like what you see? Visit the ' +\n",
              "            '<a target=\"_blank\" href=https://colab.research.google.com/notebooks/data_table.ipynb>data table notebook</a>'\n",
              "            + ' to learn more about interactive tables.';\n",
              "          element.innerHTML = '';\n",
              "          dataTable['output_type'] = 'display_data';\n",
              "          await google.colab.output.renderOutput(dataTable, element);\n",
              "          const docLink = document.createElement('div');\n",
              "          docLink.innerHTML = docLinkHtml;\n",
              "          element.appendChild(docLink);\n",
              "        }\n",
              "      </script>\n",
              "    </div>\n",
              "  </div>\n",
              "  "
            ]
          },
          "metadata": {},
          "execution_count": 25
        }
      ]
    },
    {
      "cell_type": "markdown",
      "source": [
        "**Pytorch**"
      ],
      "metadata": {
        "id": "cfGeyiKTeBZ8"
      }
    },
    {
      "cell_type": "code",
      "source": [
        "from sklearn.model_selection import train_test_split\n",
        "\n",
        "X_train, X_test, y_train, y_test = train_test_split(train_X2, train_y2, test_size = 0.2)\n",
        "\n",
        "print(X_train.shape) # (547, 15)\n",
        "print(y_train.shape)\n",
        "print(X_test.shape) # (137, 15)\n",
        "print(y_test.shape)\n",
        "\n",
        "import tensorflow as tf\n",
        "y_train_onehot = tf.keras.utils.to_categorical(y_train, num_classes=2)\n",
        "y_test_onehot = tf.keras.utils.to_categorical(y_test, num_classes=2)\n",
        "\n",
        "print(y_train_onehot.shape)\n",
        "print(y_test_onehot.shape)"
      ],
      "metadata": {
        "colab": {
          "base_uri": "https://localhost:8080/"
        },
        "id": "B4T2NsTng0DB",
        "outputId": "4cb9d46b-db75-4004-ace0-e798a509b1cb"
      },
      "execution_count": 26,
      "outputs": [
        {
          "output_type": "stream",
          "name": "stdout",
          "text": [
            "(712, 17)\n",
            "(712, 1)\n",
            "(179, 17)\n",
            "(179, 1)\n",
            "(712, 2)\n",
            "(179, 2)\n"
          ]
        }
      ]
    },
    {
      "cell_type": "code",
      "source": [
        "import torch\n",
        "import torch.nn.functional as F\n",
        "from sklearn.metrics import accuracy_score\n",
        "\n",
        "# 創建模型架構\n",
        "class Model(torch.nn.Module):\n",
        "    def __init__(self, input_size, hidden_size, output_size):\n",
        "        super(Model, self).__init__()\n",
        "        self.hidden1 = torch.nn.Linear(input_size, hidden_size)\n",
        "        self.hidden2 = torch.nn.Linear(hidden_size, hidden_size)\n",
        "        self.predict = torch.nn.Linear(hidden_size, output_size)\n",
        "        \n",
        "    def forward(self, x):\n",
        "        output1 = self.hidden1(x)\n",
        "        output2 = self.hidden2(output1)\n",
        "        output = F.softmax(self.predict(output2))\n",
        "        return output\n",
        "\n",
        "# 模型、優化器初始化\n",
        "model = Model(X_test.shape[1], 32, 2)\n",
        "optimizer = torch.optim.SGD(model.parameters(), lr=0.01, momentum=0.0) # 模型參數優化器\n",
        "loss_func = torch.nn.CrossEntropyLoss()\n",
        "\n",
        "# 資料格式轉成torch專用格式\n",
        "x_data = torch.tensor(X_train.values, dtype=torch.float32) # [120, 4]\n",
        "y_data = torch.tensor(y_train_onehot, dtype=torch.float32) # [120, 3]\n",
        "x_test_data = torch.tensor(X_test.values, dtype=torch.float32) # [120, 4]\n",
        "y_test_data = torch.tensor(y_test_onehot, dtype=torch.float32) # [120, 3]\n",
        "\n",
        "\n",
        "batch_size = 16\n",
        "num_epochs = 150\n",
        "num_batches = len(X_train) // batch_size\n",
        "loss_list = []\n",
        "test_loss_list = []\n",
        "\n",
        "for epoch in range(num_epochs):\n",
        "    for i in range(num_batches):\n",
        "        start = i * batch_size\n",
        "        end = start + batch_size\n",
        "        prediction = model(x_data[start:end])\n",
        "        loss = loss_func(prediction, y_data[start:end])\n",
        "\n",
        "        optimizer.zero_grad()\n",
        "        loss.backward()\n",
        "        optimizer.step()\n",
        "\n",
        "    loss = loss_func(model(x_data), y_data)\n",
        "    loss_list.append(loss.item())\n",
        "\n",
        "    test_loss = loss_func(model(x_test_data), y_test_data)\n",
        "    test_loss_list.append(test_loss.item())\n",
        "\n",
        "    # print(loss)\n",
        "\n",
        "print(' ===== done =====')\n",
        "\n",
        "print(loss_list)\n",
        "print(test_loss_list)"
      ],
      "metadata": {
        "colab": {
          "base_uri": "https://localhost:8080/"
        },
        "id": "2CuZ3VyKeFWa",
        "outputId": "684b29ff-3ffe-43f5-b88c-08919ae5079a"
      },
      "execution_count": 29,
      "outputs": [
        {
          "output_type": "stream",
          "name": "stderr",
          "text": [
            "/usr/local/lib/python3.7/dist-packages/ipykernel_launcher.py:16: UserWarning: Implicit dimension choice for softmax has been deprecated. Change the call to include dim=X as an argument.\n",
            "  app.launch_new_instance()\n"
          ]
        },
        {
          "output_type": "stream",
          "name": "stdout",
          "text": [
            " ===== done =====\n",
            "[0.6174547672271729, 0.6173306107521057, 0.6168869733810425, 0.616148829460144, 0.6153766512870789, 0.6145666241645813, 0.6136452555656433, 0.6125571727752686, 0.6113114356994629, 0.6099711060523987, 0.6085752248764038, 0.6071174740791321, 0.6055852770805359, 0.6039749383926392, 0.6022921204566956, 0.6005498766899109, 0.5987668633460999, 0.5969647765159607, 0.5951659679412842, 0.5933896899223328, 0.5916486978530884, 0.5899471044540405, 0.5882788300514221, 0.5866329073905945, 0.5850072503089905, 0.5834174752235413, 0.5818828344345093, 0.5804035067558289, 0.5789598822593689, 0.5775319337844849, 0.5761184096336365, 0.5747391581535339, 0.5734187364578247, 0.5721758008003235, 0.5710218548774719, 0.5699594020843506, 0.5689786672592163, 0.5680421590805054, 0.5671736001968384, 0.5663878321647644, 0.5656552314758301, 0.5649586319923401, 0.564288318157196, 0.5636383891105652, 0.563005805015564, 0.5623897314071655, 0.5617897510528564, 0.5612053871154785, 0.5606365203857422, 0.560084879398346, 0.5595564246177673, 0.5590633153915405, 0.5586174726486206, 0.5582167506217957, 0.5577304363250732, 0.5574371218681335, 0.5565398335456848, 0.5558422803878784, 0.5549875497817993, 0.5539478659629822, 0.5517352819442749, 0.5524523258209229, 0.5558274388313293, 0.5527399182319641, 0.5499433875083923, 0.5554061532020569, 0.5493791103363037, 0.5542550086975098, 0.5464908480644226, 0.5499005913734436, 0.5473099946975708, 0.5436847805976868, 0.5508603453636169, 0.5435945987701416, 0.5409752726554871, 0.5421639680862427, 0.5437314510345459, 0.5391216278076172, 0.5638777613639832, 0.5365308523178101, 0.5361043214797974, 0.5322436690330505, 0.5313299298286438, 0.5417826771736145, 0.5310260653495789, 0.5315358638763428, 0.5296360850334167, 0.5250824093818665, 0.5258163213729858, 0.5245670080184937, 0.526336669921875, 0.5362460017204285, 0.5244022607803345, 0.5207014083862305, 0.5202605724334717, 0.5313555002212524, 0.5249139666557312, 0.5177175402641296, 0.5210678577423096, 0.5221642255783081, 0.5163435935974121, 0.5146411657333374, 0.514051616191864, 0.5186032056808472, 0.5134298801422119, 0.5125237107276917, 0.5145670771598816, 0.5131106972694397, 0.5099359154701233, 0.5134824514389038, 0.508525550365448, 0.5096464157104492, 0.5105435848236084, 0.5091086626052856, 0.5100545287132263, 0.510263204574585, 0.5074129700660706, 0.5077590942382812, 0.5073885321617126, 0.5082582235336304, 0.5063033699989319, 0.5059956312179565, 0.5059815645217896, 0.5054242014884949, 0.5051206946372986, 0.5048363208770752, 0.50465989112854, 0.5044277906417847, 0.5043688416481018, 0.5042197108268738, 0.5040444135665894, 0.5039970278739929, 0.5038530826568604, 0.5036540031433105, 0.5036515593528748, 0.5033643245697021, 0.5063603520393372, 0.5022768378257751, 0.5027958154678345, 0.5034238696098328, 0.5041816234588623, 0.502470850944519, 0.5023620128631592, 0.5021878480911255, 0.5019897818565369, 0.5020624995231628, 0.503014862537384, 0.5025637745857239, 0.502205491065979, 0.50125652551651]\n",
            "[0.6226059198379517, 0.6225897669792175, 0.6223462820053101, 0.6218116283416748, 0.6211326122283936, 0.6203199028968811, 0.619371235370636, 0.6183013319969177, 0.6171455979347229, 0.6159504055976868, 0.6147367358207703, 0.6134955883026123, 0.6122162938117981, 0.610896110534668, 0.6095400452613831, 0.6081598997116089, 0.606772243976593, 0.6053967475891113, 0.6040533185005188, 0.6027584671974182, 0.6015220284461975, 0.6003448367118835, 0.5992181301116943, 0.5981289148330688, 0.5970715284347534, 0.596055269241333, 0.5950915813446045, 0.5941733717918396, 0.59327632188797, 0.5923781991004944, 0.5914768576622009, 0.5905914306640625, 0.5897457003593445, 0.5889585018157959, 0.5882415771484375, 0.5875968337059021, 0.587012767791748, 0.586460292339325, 0.5859519243240356, 0.5854898691177368, 0.585053563117981, 0.5846322774887085, 0.5842196345329285, 0.5838111639022827, 0.5834040641784668, 0.5829970240592957, 0.5825892686843872, 0.5821797251701355, 0.5817680358886719, 0.5813554525375366, 0.5809474587440491, 0.580555260181427, 0.5801911354064941, 0.5798550844192505, 0.579430878162384, 0.5792047381401062, 0.578345000743866, 0.5779069662094116, 0.5769287347793579, 0.575944185256958, 0.5741903781890869, 0.5745933055877686, 0.5774819850921631, 0.5747745037078857, 0.5722221732139587, 0.5779659748077393, 0.5717228055000305, 0.5767182111740112, 0.5691207051277161, 0.5719993114471436, 0.5696557760238647, 0.5664565563201904, 0.5725212097167969, 0.5661802887916565, 0.5638571977615356, 0.5645985007286072, 0.5656470656394958, 0.5619437098503113, 0.5875800251960754, 0.5593836307525635, 0.5586979389190674, 0.5558242201805115, 0.5551369190216064, 0.5630176067352295, 0.5547089576721191, 0.554814338684082, 0.5533471703529358, 0.5487216711044312, 0.5496416091918945, 0.54900723695755, 0.5501874089241028, 0.5571518540382385, 0.548562228679657, 0.5451735854148865, 0.545103132724762, 0.5526273250579834, 0.5474909543991089, 0.5422360301017761, 0.5442686676979065, 0.5448758602142334, 0.5418089628219604, 0.5399335622787476, 0.5394687056541443, 0.5422277450561523, 0.5392247438430786, 0.538729727268219, 0.5395187139511108, 0.5391519665718079, 0.5368169546127319, 0.5392879843711853, 0.5362401604652405, 0.5363011956214905, 0.5367276668548584, 0.5359062552452087, 0.5367047190666199, 0.5368134379386902, 0.5349277257919312, 0.5347920656204224, 0.5344876646995544, 0.5351935625076294, 0.5340626239776611, 0.533859372138977, 0.5334628820419312, 0.5333112478256226, 0.5335330367088318, 0.5332058668136597, 0.5332098007202148, 0.5329270362854004, 0.5328906178474426, 0.5326808094978333, 0.5319159030914307, 0.5317491292953491, 0.531596302986145, 0.5313972234725952, 0.531295895576477, 0.531045138835907, 0.5328475832939148, 0.5299573540687561, 0.5305417776107788, 0.5307952761650085, 0.53127521276474, 0.5307726263999939, 0.5300717353820801, 0.5298541188240051, 0.5298100709915161, 0.5298898220062256, 0.5395095348358154, 0.529884397983551, 0.5296093225479126, 0.5292767286300659]\n"
          ]
        }
      ]
    },
    {
      "cell_type": "code",
      "source": [
        "import matplotlib.pyplot as plt\n",
        "plt.plot(loss_list, linewidth=3)\n",
        "plt.plot(test_loss_list, linewidth=3)\n",
        "plt.legend((\"Training Loss\", \"Validation Loss\"))\n",
        "plt.xlabel(\"Epoch\")\n",
        "plt.ylabel(\"BCE Loss\")"
      ],
      "metadata": {
        "colab": {
          "base_uri": "https://localhost:8080/",
          "height": 296
        },
        "id": "dLfyVimKhYXR",
        "outputId": "299f2bbe-1778-4f8e-b601-dc573c3444c2"
      },
      "execution_count": 30,
      "outputs": [
        {
          "output_type": "execute_result",
          "data": {
            "text/plain": [
              "Text(0, 0.5, 'BCE Loss')"
            ]
          },
          "metadata": {},
          "execution_count": 30
        },
        {
          "output_type": "display_data",
          "data": {
            "text/plain": [
              "<Figure size 432x288 with 1 Axes>"
            ],
            "image/png": "[encoded data removed]"
          },
          "metadata": {
            "needs_background": "light"
          }
        }
      ]
    },
    {
      "cell_type": "code",
      "source": [
        "x_test_data = torch.tensor(X_test.values, dtype=torch.float32)\n",
        "y_pred = model(x_test_data)\n",
        "y_pred = y_pred.argmax(1) # one hot array to int array\n",
        "accuracy_score(y_test, y_pred.detach().numpy()) # accuracy"
      ],
      "metadata": {
        "colab": {
          "base_uri": "https://localhost:8080/"
        },
        "id": "hPPr8HxFhluk",
        "outputId": "fb8bcd6c-e29d-4f54-81d7-24d3e44ea8f7"
      },
      "execution_count": 31,
      "outputs": [
        {
          "output_type": "stream",
          "name": "stderr",
          "text": [
            "/usr/local/lib/python3.7/dist-packages/ipykernel_launcher.py:16: UserWarning: Implicit dimension choice for softmax has been deprecated. Change the call to include dim=X as an argument.\n",
            "  app.launch_new_instance()\n"
          ]
        },
        {
          "output_type": "execute_result",
          "data": {
            "text/plain": [
              "0.7932960893854749"
            ]
          },
          "metadata": {},
          "execution_count": 31
        }
      ]
    }
  ]
}